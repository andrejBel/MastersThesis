{
 "nbformat": 4,
 "nbformat_minor": 0,
 "metadata": {
  "accelerator": "GPU",
  "colab": {
   "name": "for_training colab.ipynb",
   "provenance": [],
   "collapsed_sections": [],
   "machine_shape": "hm"
  },
  "kernelspec": {
   "display_name": "Python 3",
   "language": "python",
   "name": "python3"
  },
  "language_info": {
   "codemirror_mode": {
    "name": "ipython",
    "version": 3
   },
   "file_extension": ".py",
   "mimetype": "text/x-python",
   "name": "python",
   "nbconvert_exporter": "python",
   "pygments_lexer": "ipython3",
   "version": "3.6.5"
  },
  "pycharm": {
   "stem_cell": {
    "cell_type": "raw",
    "source": [],
    "metadata": {
     "collapsed": false
    }
   }
  }
 },
 "cells": [
  {
   "cell_type": "code",
   "execution_count": null,
   "outputs": [],
   "source": [
    "IS_COLAB = False\n",
    "try:\n",
    "    import google.colab\n",
    "    IS_COLAB = True\n",
    "except:\n",
    "    pass\n",
    "!pip install tensorflow-gpu==2.0.0\n",
    "!pip install jsonpickle #1.2\n",
    "!pip install openpyxl==2.6.3\n",
    "!pip install opencv-python==4.1.2.30\n",
    "!pip install matplotlib==3.1.1"
   ],
   "metadata": {
    "collapsed": false,
    "pycharm": {
     "name": "#%%\n"
    }
   }
  },
  {
   "cell_type": "code",
   "execution_count": null,
   "outputs": [],
   "source": [
    "if IS_COLAB:\n",
    "    from google.colab import drive\n",
    "    drive.mount('/content/drive', force_remount=True)"
   ],
   "metadata": {
    "collapsed": false,
    "pycharm": {
     "name": "#%%\n"
    }
   }
  },
  {
   "cell_type": "code",
   "execution_count": null,
   "outputs": [],
   "source": [
    "if IS_COLAB:\n",
    "    %cd /content/drive/My\\ Drive/MastersThesis\n",
    "    !ls\n",
    "    !pwd\n",
    "    import sys\n",
    "    sys.path.append('./')"
   ],
   "metadata": {
    "collapsed": false,
    "pycharm": {
     "name": "#%%\n"
    }
   }
  },
  {
   "cell_type": "code",
   "execution_count": null,
   "outputs": [],
   "source": [
    "import global_functions\n",
    "global_functions.on_start()"
   ],
   "metadata": {
    "collapsed": false,
    "pycharm": {
     "name": "#%%\n"
    }
   }
  },
  {
   "cell_type": "code",
   "execution_count": null,
   "outputs": [],
   "source": [
    "import tensorflow as tf\n",
    "print(tf.__version__)\n",
    "#2.0.0"
   ],
   "metadata": {
    "collapsed": false,
    "pycharm": {
     "name": "#%%\n"
    }
   }
  },
  {
   "cell_type": "code",
   "execution_count": null,
   "outputs": [],
   "source": [
    "import importlib\n",
    "import vizualizer, experiments , constants, datasets, models, predictors, training_data, training, reporter\n",
    "importlib.reload(vizualizer)\n",
    "importlib.reload(experiments)\n",
    "importlib.reload(constants)\n",
    "importlib.reload(datasets)\n",
    "importlib.reload(models)\n",
    "importlib.reload(predictors)\n",
    "importlib.reload(training_data)\n",
    "importlib.reload(training)\n",
    "importlib.reload(reporter)\n",
    "import numpy as np"
   ],
   "metadata": {
    "collapsed": false,
    "pycharm": {
     "name": "#%%\n"
    }
   }
  },
  {
   "cell_type": "code",
   "execution_count": null,
   "outputs": [],
   "source": [
    "exp = experiments.ExperimentAutoencoder(datasets.FashionMnistDataset,\n",
    "                                                    models.BasicModelBuilderDecorderWithoutSigmoidActivation.get_provider(),\n",
    "                                                    training_data.BasicTrainingDataGeneratorAutoencoder())\n",
    "result = exp.train(training_data.BasicTrainParametersAutoencoder(150, 128, 20, True, 1.0, 1e-5,\n",
    "                                                                             constants.ExperimentsPaths.FashionMnist.BasicModelBuilderDecorderWithoutSigmoidActivation.AUTOENCODER,\n",
    "                                                                             True))"
   ],
   "metadata": {
    "collapsed": false,
    "pycharm": {
     "name": "#%%\n"
    }
   }
  }
 ]
}