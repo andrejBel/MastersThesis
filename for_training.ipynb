{
 "cells": [
  {
   "cell_type": "code",
   "execution_count": null,
   "metadata": {
    "colab": {
     "base_uri": "https://localhost:8080/",
     "height": 1000
    },
    "colab_type": "code",
    "executionInfo": {
     "elapsed": 55963,
     "status": "ok",
     "timestamp": 1572427052445,
     "user": {
      "displayName": "Gero Lapan",
      "photoUrl": "",
      "userId": "12575555955150639304"
     },
     "user_tz": -60
    },
    "id": "XNigl-_y7C_F",
    "outputId": "170cb2e0-9cff-4d36-e1d5-b238e5cadf2a"
   },
   "outputs": [],
   "source": [
    "IS_LINUX = False\n",
    "from sys import platform\n",
    "if platform == \"linux\" or platform == \"linux2\":\n",
    "  IS_LINUX = True\n",
    "if IS_LINUX:\n",
    "    !pip install tensorflow-gpu\n",
    "    !pip install jsonpickle"
   ]
  },
  {
   "cell_type": "code",
   "execution_count": null,
   "metadata": {
    "colab": {
     "base_uri": "https://localhost:8080/",
     "height": 122
    },
    "colab_type": "code",
    "executionInfo": {
     "elapsed": 76102,
     "status": "ok",
     "timestamp": 1572427072591,
     "user": {
      "displayName": "Gero Lapan",
      "photoUrl": "",
      "userId": "12575555955150639304"
     },
     "user_tz": -60
    },
    "id": "DswxGqi-sw4E",
    "outputId": "1cea8a36-8c44-4f8f-aadc-8332c25e24a8"
   },
   "outputs": [],
   "source": [
    "if IS_LINUX:\n",
    "    from google.colab import drive\n",
    "    drive.mount('/content/drive', force_remount=True)"
   ]
  },
  {
   "cell_type": "code",
   "execution_count": null,
   "metadata": {
    "colab": {
     "base_uri": "https://localhost:8080/",
     "height": 204
    },
    "colab_type": "code",
    "executionInfo": {
     "elapsed": 80634,
     "status": "ok",
     "timestamp": 1572427077129,
     "user": {
      "displayName": "Gero Lapan",
      "photoUrl": "",
      "userId": "12575555955150639304"
     },
     "user_tz": -60
    },
    "id": "iUj0zEbRs1ts",
    "outputId": "1c01d8a5-8eab-4a12-97de-58d59c6d7da0"
   },
   "outputs": [],
   "source": [
    "if IS_LINUX:\n",
    "    %cd /content/drive/My\\ Drive/MastersThesis\n",
    "    !ls\n",
    "    !pwd\n",
    "    import sys\n",
    "    sys.path.append('./')"
   ]
  },
  {
   "cell_type": "code",
   "execution_count": null,
   "metadata": {
    "colab": {
     "base_uri": "https://localhost:8080/",
     "height": 51
    },
    "colab_type": "code",
    "executionInfo": {
     "elapsed": 5878,
     "status": "ok",
     "timestamp": 1572427086336,
     "user": {
      "displayName": "Gero Lapan",
      "photoUrl": "",
      "userId": "12575555955150639304"
     },
     "user_tz": -60
    },
    "id": "CAPxLTTaeaaS",
    "outputId": "ba982a71-4ba2-4847-e98a-1b64befd21c8"
   },
   "outputs": [],
   "source": [
    "import global_functions\n",
    "global_functions.on_start()"
   ]
  },
  {
   "cell_type": "code",
   "execution_count": null,
   "metadata": {
    "colab": {
     "base_uri": "https://localhost:8080/",
     "height": 34
    },
    "colab_type": "code",
    "executionInfo": {
     "elapsed": 986,
     "status": "ok",
     "timestamp": 1572427089228,
     "user": {
      "displayName": "Gero Lapan",
      "photoUrl": "",
      "userId": "12575555955150639304"
     },
     "user_tz": -60
    },
    "id": "DTKNraAlGLLO",
    "outputId": "55709841-6e2e-4937-a6b5-ac7fe5c1b858"
   },
   "outputs": [],
   "source": [
    "import tensorflow as tf\n",
    "print(tf.__version__)\n",
    "#2.0.0"
   ]
  },
  {
   "cell_type": "code",
   "execution_count": null,
   "metadata": {
    "colab": {},
    "colab_type": "code",
    "id": "XD_m4k8AtuU_"
   },
   "outputs": [],
   "source": [
    "import experiments, datasets, training_data\n",
    "import models\n",
    "import constants\n",
    "import vizualizer\n",
    "\n",
    "from global_functions import on_start\n",
    "on_start()\n",
    "\n",
    "def autoencoder_classifier_together(autoencoder_layers_trainable_during_classification_training: bool):\n",
    "    for classifier_rate in [0.1, 0.25, 0.5, 1]:\n",
    "        exp = experiments.ExperimentAutoencoderAndClassifier(\n",
    "            datasets.DatasetProviderClass(datasets.FashionMnistDataset),\n",
    "            models.BasicModelProvider(),\n",
    "            training_data.BasicTrainingDataGeneratorAutoencoderClassifier())\n",
    "        parameters_autoencoder = training_data.TrainParameters(1, 128, None, False, 1.0, 1e-7)\n",
    "        parameters_classifier = training_data.TrainParameters(1, 128, None, True, classifier_rate, 1e-7)\n",
    "        parameters = training_data.BasicTrainParametersTwoModels(parameters_autoencoder, parameters_classifier, 150,\n",
    "                                                                 autoencoder_layers_trainable_during_classification_training,\n",
    "                                                                 constants.ExperimentsPaths.FashionMnist.AUTOENCODER1_CLASSIFIER1_AUTO_L_ON\n",
    "                                                                 if autoencoder_layers_trainable_during_classification_training else\n",
    "                                                                 constants.ExperimentsPaths.FashionMnist.AUTOENCODER1_CLASSIFIER1_AUTO_L_OFF,\n",
    "                                                                 True)\n",
    "        exp.train(parameters)\n",
    "\n",
    "\n",
    "# 4\n",
    "autoencoder_classifier_together(True)"
   ]
  },
  {
   "cell_type": "code",
   "execution_count": null,
   "metadata": {
    "colab": {},
    "colab_type": "code",
    "id": "AKt_TzBWzZ5A"
   },
   "outputs": [],
   "source": []
  },
  {
   "cell_type": "code",
   "execution_count": null,
   "metadata": {
    "colab": {},
    "colab_type": "code",
    "id": "BHq41pzGBLVI"
   },
   "outputs": [],
   "source": [
    "import models as models\n",
    "import datasets\n",
    "import importlib\n",
    "importlib.reload(models)\n",
    "model = models.BasicModelProvider()(datasets.FashionMnistDataset())"
   ]
  },
  {
   "cell_type": "code",
   "execution_count": null,
   "metadata": {
    "colab": {},
    "colab_type": "code",
    "id": "a8dtVAkVBT8c"
   },
   "outputs": [],
   "source": []
  },
  {
   "cell_type": "code",
   "execution_count": null,
   "metadata": {
    "colab": {},
    "colab_type": "code",
    "id": "5_hF_W4tzGhM"
   },
   "outputs": [],
   "source": [
    "model.classifier.summary()"
   ]
  },
  {
   "cell_type": "code",
   "execution_count": null,
   "metadata": {
    "colab": {},
    "colab_type": "code",
    "id": "uODtmIAeXG87"
   },
   "outputs": [],
   "source": []
  },
  {
   "cell_type": "code",
   "execution_count": null,
   "metadata": {},
   "outputs": [],
   "source": []
  },
  {
   "cell_type": "code",
   "execution_count": null,
   "metadata": {
    "colab": {},
    "colab_type": "code",
    "id": "-saAY0jSlrlb"
   },
   "outputs": [],
   "source": [
    "provider = models.ExistingModelProvider(lambda : model)\n",
    "exp.model_provider = provider"
   ]
  },
  {
   "cell_type": "code",
   "execution_count": null,
   "metadata": {
    "colab": {},
    "colab_type": "code",
    "id": "X2lt44oNlrle"
   },
   "outputs": [],
   "source": [
    "model, result = exp.train(training_data.BasicTrainParametersAutoencoder(15, 128, 20, True, 1.0, 0.0001, None,None))"
   ]
  },
  {
   "cell_type": "code",
   "execution_count": 545,
   "metadata": {
    "colab": {
     "base_uri": "https://localhost:8080/",
     "height": 34
    },
    "colab_type": "code",
    "executionInfo": {
     "elapsed": 657,
     "status": "ok",
     "timestamp": 1572427150566,
     "user": {
      "displayName": "Gero Lapan",
      "photoUrl": "",
      "userId": "12575555955150639304"
     },
     "user_tz": -60
    },
    "id": "RPXVrTrtuM5S",
    "outputId": "618d474f-2d4b-4309-af4e-03df43f074ba"
   },
   "outputs": [],
   "source": [
    "import vizualizer, experiments , constants, importlib, datasets, models\n",
    "importlib.reload(experiments)\n",
    "importlib.reload(vizualizer)\n",
    "importlib.reload(models)\n",
    "importlib.reload(constants)\n",
    "\n",
    "\n",
    "results = experiments.ExperimentBase.load_experiment_results(constants.ExperimentsPaths.Mnist.CLASSIFIER, True)\n",
    "experiment = results[-1].experiment\n",
    "#print(len(results))    \n",
    "#vizualizer.Vizualizer.vizualize([result.train_history for result in results], 0.5)"
   ]
  },
  {
   "cell_type": "code",
   "execution_count": 546,
   "metadata": {
    "colab": {},
    "colab_type": "code",
    "id": "3Trz-pItxZ3a"
   },
   "outputs": [],
   "source": [
    "trained_models = experiment.model_provider()"
   ]
  },
  {
   "cell_type": "code",
   "execution_count": 555,
   "metadata": {},
   "outputs": [
    {
     "name": "stdout",
     "output_type": "stream",
     "text": [
      "<function sigmoid at 0x000002275C6CD2F0>\n"
     ]
    }
   ],
   "source": [
    "last_layer = trained_models.classifier.layers[-1]\n",
    "print(last_layer.activation)"
   ]
  },
  {
   "cell_type": "code",
   "execution_count": 558,
   "metadata": {},
   "outputs": [],
   "source": [
    "trained_models.make_classifier_without_activation()\n",
    "#trained_models.make_classifier_with_sigmoid_activation()\n",
    "#trained_models.make_classifier_with_softmax_activation()"
   ]
  },
  {
   "cell_type": "code",
   "execution_count": 212,
   "metadata": {},
   "outputs": [
    {
     "name": "stdout",
     "output_type": "stream",
     "text": [
      "10000/1 - 1s\n",
      "Correct: 898\n",
      "10000/1 - 1s\n",
      "Correct: 9384\n"
     ]
    }
   ],
   "source": [
    "mnist_predictions = experiments.ExperimentClassifier.predict_test(datasets.MnistDataset(), trained_models)\n",
    "#mnist_predictions = np.max(mnist_predictions, axis = 1)\n",
    "fashion_mnist_predictions = experiments.ExperimentClassifier.predict_test(datasets.FashionMnistDataset(), trained_models)\n",
    "#fashion_mnist_predictions = np.max(fashion_mnist_predictions, axis = 1)"
   ]
  },
  {
   "cell_type": "code",
   "execution_count": 265,
   "metadata": {
    "colab": {
     "base_uri": "https://localhost:8080/",
     "height": 68
    },
    "colab_type": "code",
    "executionInfo": {
     "elapsed": 24346,
     "status": "ok",
     "timestamp": 1572427494993,
     "user": {
      "displayName": "Gero Lapan",
      "photoUrl": "",
      "userId": "12575555955150639304"
     },
     "user_tz": -60
    },
    "id": "-pDEp0ihlrln",
    "outputId": "4c81b466-f3a4-4bcd-99f6-c5dcb1b600a9"
   },
   "outputs": [],
   "source": [
    "def print_predictins(predictions, dataset, start = 0, end = 10):\n",
    "    for index in range(start, end):\n",
    "        item = predictions[index]\n",
    "        print(item)\n",
    "        my_prediction = item.argmax()\n",
    "        correct_index = dataset.get_test_labels()[index]\n",
    "        print(item[correct_index])\n",
    "        print(\"Correct:\", my_prediction == correct_index)\n",
    "        print(\"sum abs: \", sum(np.abs(item)) )\n",
    "#print_predictins(fashion_mnist_predictions, datasets.FashionMnistDataset())\n",
    "\n",
    "fashion_mnist_abs = np.sum(np.square(mnist_predictions) , axis = 1)\n",
    "fashion_mnist_abs[0:10]\n",
    "\n",
    "\n"
   ]
  },
  {
   "cell_type": "code",
   "execution_count": 538,
   "metadata": {
    "colab": {
     "base_uri": "https://localhost:8080/",
     "height": 68
    },
    "colab_type": "code",
    "executionInfo": {
     "elapsed": 24346,
     "status": "ok",
     "timestamp": 1572427494993,
     "user": {
      "displayName": "Gero Lapan",
      "photoUrl": "",
      "userId": "12575555955150639304"
     },
     "user_tz": -60
    },
    "id": "-pDEp0ihlrln",
    "outputId": "4c81b466-f3a4-4bcd-99f6-c5dcb1b600a9"
   },
   "outputs": [],
   "source": [
    "from abc import ABC, abstractmethod\n",
    "\n",
    "class Predictor(ABC):\n",
    "    def predict_train(self, dataset, model, threashold = None):\n",
    "        return self.predict(dataset.get_train_images(), dataset.get_train_labels(), model, threashold)\n",
    "        \n",
    "    def predict_test(self, dataset, model, threashold = None):\n",
    "        return self.predict(dataset.get_test_images(), dataset.get_test_labels(), model, threashold)\n",
    "        \n",
    "    def predict_test_based_on_train_treshoald(self, dataset, model, percentile):\n",
    "        _, distance_train = self.predict_train(dataset, model)\n",
    "        threashold_for_test =  np.percentile(distance_train, percentile)\n",
    "        return self.predict_test(dataset, model, threashold_for_test), threashold_for_test\n",
    "    \n",
    "    @abstractmethod\n",
    "    def predict(self, images, labels , model, threashold):\n",
    "        pass\n",
    "    \n",
    "\n",
    "class AbsDistanceFromPredicted(Predictor):    \n",
    "    \n",
    "    def predict(self, images, labels , model, threashold):\n",
    "        predictions = model.classifier.predict(images)\n",
    "        my_classes = predictions.argmax(axis = 1)\n",
    "        distances = np.zeros_like(my_classes)\n",
    "        for index, _ in enumerate(predictions):\n",
    "            classes_values = predictions[index]\n",
    "            my_predicted_class = my_classes[index]\n",
    "            distance = 0.0\n",
    "            for index_class_value, class_value in enumerate(classes_values):\n",
    "                if index_class_value == my_predicted_class:\n",
    "                    continue\n",
    "                distance += abs(classes_values[my_predicted_class] - class_value)\n",
    "            if threashold is not None and distance < threashold:\n",
    "                my_classes[index] = -1\n",
    "            distances[index] = distance\n",
    "        print(\"correct: \", (labels == my_classes).sum() ) \n",
    "        print(\"unknown: \", (-1 == my_classes).sum() )\n",
    "        return my_classes, distances\n",
    "\n",
    "\n",
    "    \n",
    "class SquereDistanceFromPredicted(Predictor):\n",
    "    \n",
    "    def predict(self, images, labels , model, threashold):\n",
    "        predictions = model.classifier.predict(images)\n",
    "        my_classes = predictions.argmax(axis = 1)\n",
    "        distances = np.zeros_like(my_classes)\n",
    "        for index, _ in enumerate(predictions):\n",
    "            classes_values = predictions[index]\n",
    "            my_predicted_class = my_classes[index]\n",
    "            distance = 0.0\n",
    "            for index_class_value, class_value in enumerate(classes_values):\n",
    "                if index_class_value == my_predicted_class:\n",
    "                    continue\n",
    "            \n",
    "                distance += np.square(classes_values[my_predicted_class] - class_value)\n",
    "            #distance /= (len(classes_values) - 1)\n",
    "            if threashold is not None and distance < threashold:\n",
    "                my_classes[index] = -1\n",
    "            distances[index] = distance\n",
    "        print(\"correct: \", (labels == my_classes).sum() ) \n",
    "        print(\"unknown: \", (-1 == my_classes).sum() )\n",
    "        return my_classes, distances\n",
    "    \n",
    "class SumAbs(Predictor):\n",
    "\n",
    "    def predict(self, images, labels , model, threashold):\n",
    "        predictions = model.classifier.predict(images)\n",
    "        my_classes = predictions.argmax(axis = 1)\n",
    "        sums = np.zeros_like(my_classes)\n",
    "        for index, _ in enumerate(predictions):        \n",
    "            classes_values = predictions[index]\n",
    "            sum_values = np.sum(np.absolute(classes_values)) \n",
    "            if threashold is not None and sum_values < threashold:\n",
    "                my_classes[index] = -1\n",
    "            sums[index] = sum_values\n",
    "        print(\"correct: \", (labels == my_classes).sum() ) \n",
    "        print(\"unknown: \", (-1 == my_classes).sum() )\n",
    "        return my_classes, sums\n",
    "\n",
    "class SumSquere(Predictor):    \n",
    "    \n",
    "    def predict(self, images, labels , model, threashold):\n",
    "        predictions = model.classifier.predict(images)\n",
    "        my_classes = predictions.argmax(axis = 1)\n",
    "        sums = np.zeros_like(my_classes)\n",
    "        for index, _ in enumerate(predictions):        \n",
    "            classes_values = predictions[index]\n",
    "            sum_values = np.sum(np.square(classes_values)) \n",
    "            if threashold is not None and sum_values < threashold:\n",
    "                my_classes[index] = -1\n",
    "            sums[index] = sum_values\n",
    "        print(\"correct: \", (labels == my_classes).sum() ) \n",
    "        print(\"unknown: \", (-1 == my_classes).sum() )\n",
    "        return my_classes, sums\n",
    "\n",
    "\n",
    "# na zaklade hodnoty maximalnej predikovanej hodnoty a thresholdu, ziadna suma ani vzdialenost\n",
    "# 13.26\n",
    "class MaxArgPredictor(Predictor):\n",
    "\n",
    "    def predict(self, images, labels , model, threashold):\n",
    "        predictions = model.classifier.predict(images)\n",
    "        my_classes = predictions.argmax(axis = 1)\n",
    "        sums = np.zeros_like(my_classes)\n",
    "        for index, _ in enumerate(predictions):        \n",
    "            class_value = predictions[index][my_classes[index]]\n",
    "            if threashold is not None and class_value < threashold:\n",
    "                my_classes[index] = -1\n",
    "        print(\"correct: \", (labels == my_classes).sum() ) \n",
    "        print(\"unknown: \", (-1 == my_classes).sum() )\n",
    "        predictions = np.max(predictions, axis = 1) \n",
    "        return my_classes, predictions\n",
    "    \n",
    "\n",
    "#my_classes, distances = predict_with_unknown_class_squere_distance_from_predicted(datasets.MnistDataset(), trained_models, 9108.0)\n",
    "#my_classes, distances = predict_with_unknown_class_squere_distance_from_predicted(datasets.FashionMnistDataset(), trained_models, 9108.0)\n",
    "    "
   ]
  },
  {
   "cell_type": "code",
   "execution_count": 513,
   "metadata": {
    "colab": {
     "base_uri": "https://localhost:8080/",
     "height": 68
    },
    "colab_type": "code",
    "executionInfo": {
     "elapsed": 32400,
     "status": "ok",
     "timestamp": 1572421003591,
     "user": {
      "displayName": "Gero Lapan",
      "photoUrl": "",
      "userId": "12575555955150639304"
     },
     "user_tz": -60
    },
    "id": "e2iEECphPu2h",
    "outputId": "85b0005f-0db9-4246-c25e-8983c3132c4a"
   },
   "outputs": [
    {
     "data": {
      "text/plain": [
       "2.0"
      ]
     },
     "execution_count": 513,
     "metadata": {},
     "output_type": "execute_result"
    }
   ],
   "source": []
  },
  {
   "cell_type": "code",
   "execution_count": 559,
   "metadata": {},
   "outputs": [
    {
     "name": "stdout",
     "output_type": "stream",
     "text": [
      "AbsDistanceFromPredicted\n",
      "correct:  59983\n",
      "unknown:  0\n",
      "correct:  9034\n",
      "unknown:  964\n",
      "SquereDistanceFromPredicted\n",
      "correct:  59983\n",
      "unknown:  0\n",
      "correct:  9028\n",
      "unknown:  970\n",
      "SumAbs\n",
      "correct:  59983\n",
      "unknown:  0\n",
      "correct:  9041\n",
      "unknown:  955\n",
      "SumSquere\n",
      "correct:  59983\n",
      "unknown:  0\n",
      "correct:  9035\n",
      "unknown:  963\n",
      "MaxArgPredictor\n",
      "correct:  59983\n",
      "unknown:  0\n",
      "correct:  9015\n",
      "unknown:  983\n"
     ]
    }
   ],
   "source": [
    "predictors = Predictor.__subclasses__()\n",
    "threashoald_list = []\n",
    "for predictor in predictors:\n",
    "    print(predictor.__name__)\n",
    "    instance = predictor()\n",
    "    (_, __), threashoald = instance.predict_test_based_on_train_treshoald(datasets.MnistDataset(), trained_models, 10)\n",
    "    threashoald_list.append(threashoald)"
   ]
  },
  {
   "cell_type": "code",
   "execution_count": 561,
   "metadata": {
    "colab": {
     "base_uri": "https://localhost:8080/",
     "height": 51
    },
    "colab_type": "code",
    "executionInfo": {
     "elapsed": 20739,
     "status": "ok",
     "timestamp": 1572427515738,
     "user": {
      "displayName": "Gero Lapan",
      "photoUrl": "",
      "userId": "12575555955150639304"
     },
     "user_tz": -60
    },
    "id": "pg3Uok2DPvbR",
    "outputId": "27e23669-abce-4962-d692-0813a164433e"
   },
   "outputs": [
    {
     "name": "stdout",
     "output_type": "stream",
     "text": [
      "AbsDistanceFromPredicted\n",
      "Threashold:  353.0\n",
      "correct:  9034\n",
      "unknown:  964\n",
      "SquereDistanceFromPredicted\n",
      "Threashold:  14825.0\n",
      "correct:  9028\n",
      "unknown:  970\n",
      "SumAbs\n",
      "Threashold:  128.0\n",
      "correct:  9041\n",
      "unknown:  955\n",
      "SumSquere\n",
      "Threashold:  2554.0\n",
      "correct:  9035\n",
      "unknown:  963\n",
      "MaxArgPredictor\n",
      "Threashold:  29.888369941711428\n",
      "correct:  9015\n",
      "unknown:  983\n"
     ]
    }
   ],
   "source": [
    "for index, predictor in enumerate(predictors):\n",
    "    print(predictor.__name__)\n",
    "    instance = predictor()\n",
    "    print(\"Threashold: \", threashoald_list[index])\n",
    "    instance.predict_test(datasets.MnistDataset(), trained_models, threashoald_list[index])"
   ]
  },
  {
   "cell_type": "code",
   "execution_count": null,
   "metadata": {
    "colab": {},
    "colab_type": "code",
    "id": "bgjzTLPWlrlp"
   },
   "outputs": [],
   "source": [
    "fashion_mnist =  datasets.MnistDataset()\n",
    "fashion_mnist.get_test_labels()\n",
    "correct_predict = np.argmax( predictions, axis = 1) == fashion_mnist.get_test_labels()\n",
    "predictions = predictions[correct_predict]\n",
    "predictions = np.max(predictions, axis = 1)"
   ]
  },
  {
   "cell_type": "code",
   "execution_count": 543,
   "metadata": {
    "colab": {
     "base_uri": "https://localhost:8080/",
     "height": 34
    },
    "colab_type": "code",
    "executionInfo": {
     "elapsed": 749,
     "status": "ok",
     "timestamp": 1572427397166,
     "user": {
      "displayName": "Gero Lapan",
      "photoUrl": "",
      "userId": "12575555955150639304"
     },
     "user_tz": -60
    },
    "id": "mpcRkQD0lrlr",
    "outputId": "79289ce8-8c9e-41be-c23b-bff9074631fc"
   },
   "outputs": [
    {
     "name": "stdout",
     "output_type": "stream",
     "text": [
      "[   382.99        19070.35947368  37757.72894737  56445.09842105\n",
      "  75132.46789474  93819.83736842 112507.20684211 131194.57631579\n",
      " 149881.94578947 168569.31526316 187256.68473684 205944.05421053\n",
      " 224631.42368421 243318.79315789 262006.16263158 280693.53210526\n",
      " 299380.90157895 318068.27105263 336755.64052632 355443.01      ]\n",
      "['3201.0', '2253.0', '1439.0', '1025.0', '580.0', '419.0', '324.0', '245.0', '181.0', '124.0', '83.0', '57.0', '34.0', '15.0', '10.0', '5.0', '3.0', '0.0', '2.0']\n"
     ]
    },
    {
     "data": {
      "image/png": "[encoded data removed]",
      "text/plain": [
       "<Figure size 432x288 with 1 Axes>"
      ]
     },
     "metadata": {
      "needs_background": "light"
     },
     "output_type": "display_data"
    }
   ],
   "source": [
    "def plot_bins(predictions, number_of_bins):\n",
    "    import numpy as np\n",
    "    import matplotlib.pyplot as plt\n",
    "    bins = np.linspace( predictions.min() - 0.01 , predictions.max() + 0.01, num=number_of_bins)\n",
    "\n",
    "    def bins_labels(bins, **kwargs):\n",
    "        bin_w = (max(bins) - min(bins)) / (len(bins) - 1)\n",
    "        plt.xticks(np.arange(min(bins)+bin_w/2, max(bins), bin_w), bins, **kwargs)\n",
    "        plt.xlim(bins[0], bins[-1])\n",
    "\n",
    "    print(bins)\n",
    "    fig, ax = plt.subplots(1,1)\n",
    "    hist = ax.hist(predictions , bins=bins)\n",
    "    labels = [str(count) for count in hist[0]]\n",
    "    #labels.insert(0, 0)\n",
    "    print(labels)\n",
    "    #ax.set_xticklabels(labels)\n",
    "    plt.show()\n",
    "    return bins, labels\n",
    "\n",
    "mnist_bins, mnist_labels = plot_bins(distances, 20)\n",
    "#fashion_mnist_bins, fashion_mnist_labels = plot_bins(fashion_mnist_predictions, 9)\n"
   ]
  },
  {
   "cell_type": "code",
   "execution_count": 403,
   "metadata": {
    "colab": {
     "base_uri": "https://localhost:8080/",
     "height": 299
    },
    "colab_type": "code",
    "executionInfo": {
     "elapsed": 20727,
     "status": "ok",
     "timestamp": 1572427515739,
     "user": {
      "displayName": "Gero Lapan",
      "photoUrl": "",
      "userId": "12575555955150639304"
     },
     "user_tz": -60
    },
    "id": "3Wq1s_E4lrlu",
    "outputId": "4df7f3fa-d3f3-4d51-97f1-e4437ef4235d"
   },
   "outputs": [
    {
     "name": "stdout",
     "output_type": "stream",
     "text": [
      "interval: <-1.0936 - 11.4774, count:1030.0)\n",
      "interval: <11.4774 - 24.0484, count:3080.0)\n",
      "interval: <24.0484 - 36.6194, count:2253.0)\n",
      "interval: <36.6194 - 49.1904, count:1603.0)\n",
      "interval: <49.1904 - 61.7615, count:1090.0)\n",
      "interval: <61.7615 - 74.3325, count:667.0)\n",
      "interval: <74.3325 - 86.9035, count:211.0)\n",
      "interval: <86.9035 - 99.4745, count:56.0)\n",
      "interval: <99.4745 - 112.0455, count:10.0)\n"
     ]
    }
   ],
   "source": [
    "def print_intervals(bins, labels):\n",
    "    for index, bin in enumerate(bins[:-1]):\n",
    "        print(\"interval: <{:.4f} - {:.4f}, count:{})\".format(bins[index] , bins[index  + 1], labels[index]))\n",
    "#print_intervals(fashion_mnist_bins, fashion_mnist_labels)\n",
    "print_intervals(mnist_bins, mnist_labels)"
   ]
  },
  {
   "cell_type": "code",
   "execution_count": 90,
   "metadata": {
    "colab": {},
    "colab_type": "code",
    "id": "J0gZj4oGlrl0"
   },
   "outputs": [
    {
     "name": "stdout",
     "output_type": "stream",
     "text": [
      "interval: <-13.6465 - -9.7059, count:2.0)\n",
      "interval: <-9.7059 - -5.7653, count:17.0)\n",
      "interval: <-5.7653 - -1.8247, count:152.0)\n",
      "interval: <-1.8247 - 2.1159, count:1112.0)\n",
      "interval: <2.1159 - 6.0565, count:2096.0)\n",
      "interval: <6.0565 - 9.9971, count:2039.0)\n",
      "interval: <9.9971 - 13.9377, count:1594.0)\n",
      "interval: <13.9377 - 17.8783, count:1123.0)\n",
      "interval: <17.8783 - 21.8189, count:742.0)\n",
      "interval: <21.8189 - 25.7595, count:481.0)\n",
      "interval: <25.7595 - 29.7001, count:255.0)\n",
      "interval: <29.7001 - 33.6407, count:177.0)\n",
      "interval: <33.6407 - 37.5813, count:94.0)\n",
      "interval: <37.5813 - 41.5219, count:48.0)\n",
      "interval: <41.5219 - 45.4625, count:33.0)\n",
      "interval: <45.4625 - 49.4031, count:17.0)\n",
      "interval: <49.4031 - 53.3437, count:7.0)\n",
      "interval: <53.3437 - 57.2843, count:5.0)\n",
      "interval: <57.2843 - 61.2249, count:6.0)\n"
     ]
    }
   ],
   "source": []
  },
  {
   "cell_type": "code",
   "execution_count": 42,
   "metadata": {},
   "outputs": [
    {
     "ename": "IndexError",
     "evalue": "list index out of range",
     "output_type": "error",
     "traceback": [
      "\u001b[1;31m---------------------------------------------------------------------------\u001b[0m",
      "\u001b[1;31mIndexError\u001b[0m                                Traceback (most recent call last)",
      "\u001b[1;32m<ipython-input-42-8625b2243502>\u001b[0m in \u001b[0;36m<module>\u001b[1;34m\u001b[0m\n\u001b[1;32m----> 1\u001b[1;33m \u001b[0mlabels\u001b[0m\u001b[1;33m[\u001b[0m\u001b[1;36m10\u001b[0m\u001b[1;33m]\u001b[0m\u001b[1;33m\u001b[0m\u001b[0m\n\u001b[0m",
      "\u001b[1;31mIndexError\u001b[0m: list index out of range"
     ]
    }
   ],
   "source": []
  },
  {
   "cell_type": "code",
   "execution_count": null,
   "metadata": {
    "colab": {},
    "colab_type": "code",
    "id": "amM5_AAwlrl4"
   },
   "outputs": [],
   "source": [
    "import matplotlib.pyplot as plt\n",
    "rng = np.random.RandomState(10)  # deterministic random data\n",
    "a = np.hstack((rng.normal(size=1000), rng.normal(loc=5, scale=2, size=1000)))\n",
    "_ = plt.hist(a, bins=[-5, 0, 5, 10])  # arguments are passed to np.histogram\n",
    "plt.title(\"Histogram with 'auto' bins\")\n",
    "plt.show()"
   ]
  },
  {
   "cell_type": "code",
   "execution_count": null,
   "metadata": {
    "colab": {},
    "colab_type": "code",
    "id": "bCZPlmQO7C_s",
    "scrolled": true
   },
   "outputs": [],
   "source": [
    "# from keras.utils import plot_model\n",
    "# keras.utils.plot_model(models.auto_classifier, show_shapes=True, to_file = 'model_combined.png')\n",
    "import global_functions, constants, vizualizer, experiments\n",
    "logs = global_functions.get_files_in_dir_with_extension(constants.Paths.OUTPUT_DIRECTORY, \".json\" )\n"
   ]
  },
  {
   "cell_type": "code",
   "execution_count": null,
   "metadata": {
    "colab": {},
    "colab_type": "code",
    "id": "CyipQnhrlrl8"
   },
   "outputs": [],
   "source": [
    "import vizualizer, experiments\n",
    "results = experiments.ExperimentBase.load_experiment_results(constants.ExperimentsPaths.FashionMnist.AUTOENCODER2_CLASSIFIER1_AUTO_L_OFF)\n",
    "vizualizer.Vizualizer.vizualize([result.train_history for result in results], 0.5)\n",
    "\n",
    "    "
   ]
  },
  {
   "cell_type": "code",
   "execution_count": null,
   "metadata": {
    "colab": {},
    "colab_type": "code",
    "id": "lynGDwpvnOty"
   },
   "outputs": [],
   "source": [
    "model = results[-1].experiment.model_provider()\n",
    "model.classifier .summary()"
   ]
  },
  {
   "cell_type": "code",
   "execution_count": null,
   "metadata": {
    "colab": {},
    "colab_type": "code",
    "id": "md8JjA3ynXM8"
   },
   "outputs": [],
   "source": [
    "import vizualizer\n",
    "import importlib\n",
    "importlib.reload(vizualizer)\n",
    "vizualizer.Vizualizer.show_autoencoder_images(datasets.FashionMnistDataset(), data.test_y,  predictions, 5)"
   ]
  },
  {
   "cell_type": "code",
   "execution_count": null,
   "metadata": {
    "colab": {},
    "colab_type": "code",
    "id": "gJwfndnL9c2Z"
   },
   "outputs": [],
   "source": [
    "\n",
    "\n"
   ]
  },
  {
   "cell_type": "code",
   "execution_count": null,
   "metadata": {
    "colab": {},
    "colab_type": "code",
    "id": "ndeKGRKw7DAO"
   },
   "outputs": [],
   "source": []
  },
  {
   "cell_type": "code",
   "execution_count": null,
   "metadata": {
    "colab": {},
    "colab_type": "code",
    "id": "dSnfKuPd7DAV"
   },
   "outputs": [],
   "source": [
    "def make_batches(to_batch, batch_size = 128):\n",
    "    return [to_batch[i * batch_size:(i + 1) * batch_size] for i in range((len(to_batch) + batch_size - 1) // batch_size )]\n",
    "\n",
    "batch_size = 128\n",
    "to_batch = tf.data.Dataset.from_tensor_slices((train_images, keras.utils.to_categorical(train_labels, 10) ))\n",
    "train_batched = to_batch.batch(batch_size)"
   ]
  },
  {
   "cell_type": "code",
   "execution_count": null,
   "metadata": {
    "colab": {},
    "colab_type": "code",
    "id": "bnzVaDZk7DAc"
   },
   "outputs": [],
   "source": [
    "epochs = 10\n",
    "for epoch in range(epochs):\n",
    "    print(\"Epoch: {}\", epoch)\n",
    "    for step, (images, labels) in enumerate(train_batched):\n",
    "        set_autoencoder_trainable(True)\n",
    "        with tf.GradientTape() as tape:\n",
    "          prediction = autoencoder(images)\n",
    "          loss_autoencoder = autoencoder.loss(images, prediction)\n",
    "          gradients = tape.gradient(loss_autoencoder, autoencoder.trainable_variables)\n",
    "          autoencoder.optimizer.apply_gradients(zip(gradients, autoencoder.trainable_variables))  \n",
    "        set_autoencoder_trainable(False)\n",
    "        with tf.GradientTape() as tape:\n",
    "          predict_class = classifier(images)\n",
    "          loss_classifier = classifier.loss(labels, predict_class)  \n",
    "#           classiefier_trainable = classifier_head.trainable_variables\n",
    "          classiefier_trainable = classifier.trainable_variables\n",
    "          gradients = tape.gradient(loss_classifier, classiefier_trainable)\n",
    "          classifier.optimizer.apply_gradients(zip(gradients  ,classiefier_trainable) ) \n",
    "          if step % 10 == 0:\n",
    "              print(\"Step: {}, loss autoencoder: {}, loss classifier: {}\".format(step, loss_autoencoder.numpy().mean(), loss_classifier.numpy().mean()))\n"
   ]
  },
  {
   "cell_type": "code",
   "execution_count": null,
   "metadata": {
    "colab": {},
    "colab_type": "code",
    "id": "VBxECelEiD8m"
   },
   "outputs": [],
   "source": [
    "for epoch in range(5):\n",
    "  print(\"Classifier\")\n",
    "  historyClassifier = classifier.fit(x = train_images, y = train_labels_one_hot_encoding, batch_size=128, epochs=1, validation_data= (test_images, test_labels_one_hot_encoding))"
   ]
  },
  {
   "cell_type": "code",
   "execution_count": null,
   "metadata": {
    "colab": {},
    "colab_type": "code",
    "id": "943GKDIq3HJ8"
   },
   "outputs": [],
   "source": [
    "predictions_auto_encoder, predictions_classifier = auto_classifier.predict(test_images)\n",
    "predictions_classifier = np.argmax(np.round(predictions_classifier),axis=1)\n",
    "correct = np.where(predictions_classifier==test_labels)[0]\n",
    "print( \"Found {} correct labels\".format(len(correct)))"
   ]
  },
  {
   "cell_type": "code",
   "execution_count": null,
   "metadata": {
    "colab": {},
    "colab_type": "code",
    "id": "v6-io99UHqyl"
   },
   "outputs": [],
   "source": [
    "\n",
    "test_eval = classifier.evaluate(test_images, test_labels_one_hot_encoding, verbose=0)\n",
    "print('Test loss:', test_eval[0])\n",
    "print('Test accuracy:', test_eval[1])\n",
    "predicted_classes = classifier.predict(test_images)\n",
    "predicted_classes = np.argmax(np.round(predicted_classes),axis=1)\n",
    "predicted_classes = predicted_classes.astype('uint8')\n",
    "correct = [predicted_classes[i] == value for i, value in enumerate(test_labels)]\n",
    "print(\"Correct: {}\".format( correct.count(True)))\n",
    "\n",
    "\n"
   ]
  },
  {
   "cell_type": "code",
   "execution_count": null,
   "metadata": {
    "colab": {},
    "colab_type": "code",
    "id": "zZQS3niz3YXK"
   },
   "outputs": [],
   "source": []
  }
 ],
 "metadata": {
  "accelerator": "GPU",
  "colab": {
   "collapsed_sections": [],
   "name": "for_training.ipynb",
   "provenance": []
  },
  "kernelspec": {
   "display_name": "Python 3",
   "language": "python",
   "name": "python3"
  },
  "language_info": {
   "codemirror_mode": {
    "name": "ipython",
    "version": 3
   },
   "file_extension": ".py",
   "mimetype": "text/x-python",
   "name": "python",
   "nbconvert_exporter": "python",
   "pygments_lexer": "ipython3",
   "version": "3.6.4"
  }
 },
 "nbformat": 4,
 "nbformat_minor": 4
}
